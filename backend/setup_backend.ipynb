# Cell 1: Install all packages
!pip install fastapi==0.104.1 uvicorn[standard]==0.24.0 sqlalchemy==2.0.23 aiosqlite==0.20.0 "python-jose[cryptography]"==3.3.0 "passlib[bcrypt]"==1.7.4 python-dotenv==1.0.0 python-multipart==0.0.6

# Cell 2: Verify installations
import fastapi
import uvicorn
import sqlalchemy
import aiosqlite
from jose import jwt
from passlib.context import CryptContext
import dotenv

print("✅ All packages installed successfully!")
print(f"SQLAlchemy version: {sqlalchemy.__version__}")

# Cell 3: Create environment file
with open('.env', 'w') as f:
    f.write("SECRET_KEY=malume-nico-super-secret-key-2024\n")
    f.write("DATABASE_URL=sqlite+aiosqlite:///./malume.db\n")

print("✅ .env file created!")

# Cell 4: Test database connection
from sqlalchemy.ext.asyncio import create_async_engine, AsyncSession
from sqlalchemy.orm import sessionmaker
import os

engine = create_async_engine(os.getenv("DATABASE_URL"))
print("✅ Database engine created successfully!")

# Cell 5: Test models import
try:
    from app.models import Base, MenuItem
    print("✅ Models import successful!")
except Exception as e:
    print(f"❌ Models error: {e}")

# Cell 6: Create tables
import asyncio

async def create_tables():
    from app.db import engine, Base
    async with engine.begin() as conn:
        await conn.run_sync(Base.metadata.create_all)
    print("✅ Tables created successfully!")

asyncio.run(create_tables())

# Cell 7: Start the server (this will keep running)
!uvicorn app.main:app --host 0.0.0.0 --port 4000 --reload