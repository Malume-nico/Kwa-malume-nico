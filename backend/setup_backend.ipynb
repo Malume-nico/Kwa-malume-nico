{
 "cells": [
  {
   "cell_type": "markdown",
   "metadata": {},
   "source": [
    "# 🚀 Malume Nico Backend Setup Notebook\n",
    "## Step-by-Step Visual Setup"
   ]
  },
  {
   "cell_type": "code",
   "execution_count": null,
   "metadata": {},
   "outputs": [],
   "source": [
    "# Cell 1: Check Python version\n",
    "import sys\n",
    "print(f\"Python version: {sys.version}\")\n",
    "print(\"✅ Python is ready!\")"
   ]
  },
  {
   "cell_type": "code",
   "execution_count": null,
   "metadata": {},
   "outputs": [],
   "source": [
    "# Cell 2: Install all packages (RUN THIS FIRST)\n",
    "!pip install fastapi==0.104.1 uvicorn[standard]==0.24.0 sqlalchemy==2.0.23 aiosqlite==0.20.0 \"python-jose[cryptography]\"==3.3.0 \"passlib[bcrypt]\"==1.7.4 python-dotenv==1.0.0 python-multipart==0.0.6\n",
    "print(\"\\n✅ Packages installed!\")"
   ]
  },
  {
   "cell_type": "code",
   "execution_count": null,
   "metadata": {},
   "outputs": [],
   "source": [
    "# Cell 3: Verify all imports work\n",
    "try:\n",
    "    import fastapi\n",
    "    import uvicorn\n",
    "    import sqlalchemy\n",
    "    import aiosqlite\n",
    "    from jose import jwt\n",
    "    from passlib.context import CryptContext\n",
    "    import dotenv\n",
    "    \n",
    "    print(\"✅ All imports successful!\")\n",
    "    print(f\"SQLAlchemy version: {sqlalchemy._version_}\")\n",
    "    \n",
    "except ImportError as e:\n",
    "    print(f\"❌ Import failed: {e}\")\n",
    "    print(\"Please run Cell 2 again\")"
   ]
  },
  {
   "cell_type": "code",
   "execution_count": null,
   "metadata": {},
   "outputs": [],
   "source": [
    "# Cell 4: Create environment file\n",
    "with open('.env', 'w') as f:\n",
    "    f.write(\"SECRET_KEY=malume-nico-super-secret-key-2024\\n\")\n",
    "    f.write(\"DATABASE_URL=sqlite+aiosqlite:///./malume.db\\n\")\n",
    "\n",
    "print(\"✅ .env file created!\")\n",
    "!cat .env"
   ]
  },
  {
   "cell_type": "code",
   "execution_count": null,
   "metadata": {},
   "outputs": [],
   "source": [
    "# Cell 5: Test database connection\n",
    "from sqlalchemy.ext.asyncio import create_async_engine\n",
    "import os\n",
    "\n",
    "engine = create_async_engine(os.getenv(\"DATABASE_URL\", \"sqlite+aiosqlite:///./malume.db\"))\n",
    "print(\"✅ Database engine created successfully!\")"
   ]
  },
  {
   "cell_type": "code",
   "execution_count": null,
   "metadata": {},
   "outputs": [],
   "source": [
    "# Cell 6: Test importing your models\n",
    "try:\n",
    "    from app.models import Base\n",
    "    print(\"✅ Models imported successfully!\")\n",
    "except Exception as e:\n",
    "    print(f\"❌ Models import failed: {e}\")"
   ]
  },
  {
   "cell_type": "code",
   "execution_count": null,
   "metadata": {},
   "outputs": [],
   "source": [
    "# Cell 7: Create database tables\n",
    "import asyncio\n",
    "\n",
    "async def create_tables():\n",
    "    try:\n",
    "        from app.db import engine, Base\n",
    "        async with engine.begin() as conn:\n",
    "            await conn.run_sync(Base.metadata.create_all)\n",
    "        print(\"✅ Tables created successfully!\")\n",
    "    except Exception as e:\n",
    "        print(f\"❌ Table creation failed: {e}\")\n",
    "\n",
    "await create_tables()"
   ]
  },
  {
   "cell_type": "code",
   "execution_count": null,
   "metadata": {},
   "outputs": [],
   "source": [
    "# Cell 8: Seed the database\n",
    "try:\n",
    "    result = !python app/seed_menu.py\n",
    "    for line in result:\n",
    "        print(line)\n",
    "    print(\"✅ Database seeded successfully!\")\n",
    "except Exception as e:\n",
    "    print(f\"❌ Seeding failed: {e}\")"
   ]
  },
  {
   "cell_type": "code",
   "execution_count": null,
   "metadata": {},
   "outputs": [],
   "source": [
    "# Cell 9: Test the server (Run this last - it will keep running)\n",
    "print(\"Starting server... Press Ctrl+C to stop\")\n",
    "!uvicorn app.main:app --host 0.0.0.0 --port 4000 --reload"
   ]
  },
  {
   "cell_type": "code",
   "execution_count": null,
   "metadata": {},
   "outputs": [],
   "source": [
    "# Cell 10: Health check (Run in a new terminal)\n",
    "import requests\n",
    "try:\n",
    "    response = requests.get(\"http://localhost:4000/health\")\n",
    "    print(f\"Health check: {response.json()}\")\n",
    "except:\n",
    "    print(\"Server not running. Start it with Cell 9\")"
   ]
  }
 ],
 "metadata": {
  "kernelspec": {
   "display_name": "Python 3",
   "language": "python",
   "name": "python3"
  },
  "language_info": {
   "name": "python",
   "version": "3.11.0"
  }
 },
 "nbformat": 4,
 "nbformat_minor": 2
}
